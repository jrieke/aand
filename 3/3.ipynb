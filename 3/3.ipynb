{
 "cells": [
  {
   "cell_type": "markdown",
   "metadata": {},
   "source": [
    "# Homogeneous Poisson Process, Inhomogeneous Poisson Process and Absolute Refractoriness in a Homogeneous Poisson Process"
   ]
  },
  {
   "cell_type": "code",
   "execution_count": 2,
   "metadata": {
    "collapsed": true
   },
   "outputs": [],
   "source": [
    "from __future__ import division, print_function\n",
    "import numpy as np\n",
    "import matplotlib.pyplot as plt\n",
    "%matplotlib inline"
   ]
  },
  {
   "cell_type": "markdown",
   "metadata": {},
   "source": [
    "## 1. Spike-train statistics"
   ]
  },
  {
   "cell_type": "markdown",
   "metadata": {},
   "source": [
    "### 1. a) Interspike interval"
   ]
  },
  {
   "cell_type": "code",
   "execution_count": 3,
   "metadata": {},
   "outputs": [
    {
     "data": {
      "text/plain": [
       "((100, 100),\n",
       " array([  107.8,   198.6,   199.6,   213.4,   421.6,   446.2,   494.4,\n",
       "          514. ,   575.8,   902.6,  1243. ,  1268.8,  1269.4,  1299.4,\n",
       "         1393. ,  1404.8,  1665.2,  1740.6,  1748.8,  2041.4,  2059.2,\n",
       "         2115. ,  2120.6,  2133.2,  2158. ,  2187.2,  2568.4,  2819.8,\n",
       "         2825.4,  3255. ,  3267.2,  3315. ,  3319.6,  3333.8,  4021.6,\n",
       "         4030.4,     nan,     nan,     nan,     nan,     nan,     nan,\n",
       "            nan,     nan,     nan,     nan,     nan,     nan,     nan,\n",
       "            nan,     nan,     nan,     nan,     nan,     nan,     nan,\n",
       "            nan,     nan,     nan,     nan,     nan,     nan,     nan,\n",
       "            nan,     nan,     nan,     nan,     nan,     nan,     nan,\n",
       "            nan,     nan,     nan,     nan,     nan,     nan,     nan,\n",
       "            nan,     nan,     nan,     nan,     nan,     nan,     nan,\n",
       "            nan,     nan,     nan,     nan,     nan,     nan,     nan,\n",
       "            nan,     nan,     nan,     nan,     nan,     nan,     nan,\n",
       "            nan,     nan]))"
      ]
     },
     "execution_count": 3,
     "metadata": {},
     "output_type": "execute_result"
    }
   ],
   "source": [
    "spike_times = np.loadtxt('SpikeTimes.dat')  # in ms; dimensions: spike index, trial\n",
    "spike_times.shape, spike_times[:, 0]  # this is the first trial"
   ]
  },
  {
   "cell_type": "code",
   "execution_count": 4,
   "metadata": {},
   "outputs": [
    {
     "data": {
      "text/plain": [
       "((99, 100), array([  9.08000000e+01,   1.00000000e+00,   1.38000000e+01,\n",
       "          2.08200000e+02,   2.46000000e+01,   4.82000000e+01,\n",
       "          1.96000000e+01,   6.18000000e+01,   3.26800000e+02,\n",
       "          3.40400000e+02,   2.58000000e+01,   6.00000000e-01,\n",
       "          3.00000000e+01,   9.36000000e+01,   1.18000000e+01,\n",
       "          2.60400000e+02,   7.54000000e+01,   8.20000000e+00,\n",
       "          2.92600000e+02,   1.78000000e+01,   5.58000000e+01,\n",
       "          5.60000000e+00,   1.26000000e+01,   2.48000000e+01,\n",
       "          2.92000000e+01,   3.81200000e+02,   2.51400000e+02,\n",
       "          5.60000000e+00,   4.29600000e+02,   1.22000000e+01,\n",
       "          4.78000000e+01,   4.60000000e+00,   1.42000000e+01,\n",
       "          6.87800000e+02,   8.80000000e+00,              nan,\n",
       "                     nan,              nan,              nan,\n",
       "                     nan,              nan,              nan,\n",
       "                     nan,              nan,              nan,\n",
       "                     nan,              nan,              nan,\n",
       "                     nan,              nan,              nan,\n",
       "                     nan,              nan,              nan,\n",
       "                     nan,              nan,              nan,\n",
       "                     nan,              nan,              nan,\n",
       "                     nan,              nan,              nan,\n",
       "                     nan,              nan,              nan,\n",
       "                     nan,              nan,              nan,\n",
       "                     nan,              nan,              nan,\n",
       "                     nan,              nan,              nan,\n",
       "                     nan,              nan,              nan,\n",
       "                     nan,              nan,              nan,\n",
       "                     nan,              nan,              nan,\n",
       "                     nan,              nan,              nan,\n",
       "                     nan,              nan,              nan,\n",
       "                     nan,              nan,              nan,\n",
       "                     nan,              nan,              nan,\n",
       "                     nan,              nan,              nan]))"
      ]
     },
     "execution_count": 4,
     "metadata": {},
     "output_type": "execute_result"
    }
   ],
   "source": [
    "isi = np.diff(spike_times, axis=0)\n",
    "isi.shape, isi[:, 0]"
   ]
  },
  {
   "cell_type": "code",
   "execution_count": 5,
   "metadata": {
    "collapsed": true
   },
   "outputs": [],
   "source": [
    "isi_flattened = isi[~np.isnan(isi)]  # omit nan values"
   ]
  },
  {
   "cell_type": "code",
   "execution_count": 6,
   "metadata": {},
   "outputs": [
    {
     "data": {
      "text/plain": [
       "<matplotlib.text.Text at 0x10bf21650>"
      ]
     },
     "execution_count": 6,
     "metadata": {},
     "output_type": "execute_result"
    },
    {
     "data": {
      "image/png": "[encoded data removed]",
      "text/plain": [
       "<matplotlib.figure.Figure at 0x108bf4790>"
      ]
     },
     "metadata": {},
     "output_type": "display_data"
    }
   ],
   "source": [
    "plt.hist(isi_flattened, 70)\n",
    "plt.xlabel('Interspike interval / ms')\n",
    "plt.ylabel('Occurences')"
   ]
  },
  {
   "cell_type": "markdown",
   "metadata": {
    "collapsed": true
   },
   "source": [
    "The ISI distribution is exponentially decaying, with another Gaussian-like distribution around 280 ms."
   ]
  },
  {
   "cell_type": "markdown",
   "metadata": {},
   "source": [
    "### 1. b) Coefficient of variation"
   ]
  },
  {
   "cell_type": "code",
   "execution_count": 8,
   "metadata": {},
   "outputs": [
    {
     "data": {
      "text/plain": [
       "1.3537882337148048"
      ]
     },
     "execution_count": 8,
     "metadata": {},
     "output_type": "execute_result"
    }
   ],
   "source": [
    "cv = np.std(isi_flattened) / np.mean(isi_flattened)\n",
    "cv"
   ]
  },
  {
   "cell_type": "markdown",
   "metadata": {},
   "source": [
    "### 1. c) Fano factor"
   ]
  },
  {
   "cell_type": "code",
   "execution_count": 9,
   "metadata": {},
   "outputs": [
    {
     "name": "stderr",
     "output_type": "stream",
     "text": [
      "/Users/d068730/anaconda/lib/python2.7/site-packages/ipykernel/__main__.py:5: RuntimeWarning: invalid value encountered in greater_equal\n",
      "/Users/d068730/anaconda/lib/python2.7/site-packages/ipykernel/__main__.py:5: RuntimeWarning: invalid value encountered in less_equal\n"
     ]
    },
    {
     "data": {
      "text/plain": [
       "0.67668539951034934"
      ]
     },
     "execution_count": 9,
     "metadata": {},
     "output_type": "execute_result"
    }
   ],
   "source": [
    "spike_counts = []\n",
    "for interval in range(4):\n",
    "    start = interval * 1000\n",
    "    end = (interval+1) * 1000 - 1\n",
    "    spike_count = np.sum(np.logical_and(spike_times >= start, spike_times <= end)) / 100\n",
    "    spike_counts.append(spike_count)\n",
    "fano_factor = np.var(spike_counts) / np.mean(spike_counts)\n",
    "fano_factor"
   ]
  },
  {
   "cell_type": "markdown",
   "metadata": {
    "collapsed": true
   },
   "source": [
    "Calculating the Fano factor for smaller time windows (and not for the complete trial at once) yields a higher resolution."
   ]
  },
  {
   "cell_type": "markdown",
   "metadata": {},
   "source": [
    "## 2. Homogeneous and inhomogeneous Poisson process"
   ]
  },
  {
   "cell_type": "markdown",
   "metadata": {},
   "source": [
    "### 2. a) ISI histograms"
   ]
  },
  {
   "cell_type": "code",
   "execution_count": 94,
   "metadata": {
    "collapsed": true
   },
   "outputs": [],
   "source": [
    "from scipy.io import loadmat"
   ]
  },
  {
   "cell_type": "code",
   "execution_count": 95,
   "metadata": {
    "collapsed": true
   },
   "outputs": [],
   "source": [
    "variables = loadmat('PoissonSpikeTrains.mat')\n",
    "spike_times = variables['SpikeTimes']\n",
    "spike_times_inh = variables['SpikeTimes_inh']\n",
    "spike_times_ref = variables['SpikeTimes_ref']\n",
    "rates_ref = variables['rates_ref'][0]  # turn this into a vector"
   ]
  },
  {
   "cell_type": "code",
   "execution_count": 99,
   "metadata": {},
   "outputs": [
    {
     "data": {
      "image/png": "[encoded data removed]",
      "text/plain": [
       "<matplotlib.figure.Figure at 0x102986c50>"
      ]
     },
     "metadata": {},
     "output_type": "display_data"
    }
   ],
   "source": [
    "fig, axes = plt.subplots(1, 2, figsize=(15, 5))\n",
    "\n",
    "for ax, times, title in zip(axes, [spike_times, spike_times_inh], ['Homogenous process', 'Inhomogenous process']):\n",
    "    isi = np.diff(times, axis=0)\n",
    "    isi_flattened = isi[~np.isnan(isi)]  # omit nan values\n",
    "    plt.sca(ax)\n",
    "    plt.hist(isi_flattened, range(0, 170, 3))\n",
    "    plt.xlabel('Interspike interval / ms')\n",
    "    plt.ylabel('Occurences')\n",
    "    plt.title(title)\n",
    "    plt.xlim(0, 160)"
   ]
  },
  {
   "cell_type": "markdown",
   "metadata": {
    "collapsed": true
   },
   "source": [
    "For the homogenous process, we see only an exponential decay in the ISI histogram. For the inhomogenous process, we see an additional Gaussian-like distribution around 70 ms (like in exercise 1)."
   ]
  },
  {
   "cell_type": "markdown",
   "metadata": {},
   "source": [
    "### 2. b) Coefficient of variation and Fano factor"
   ]
  },
  {
   "cell_type": "code",
   "execution_count": 15,
   "metadata": {},
   "outputs": [
    {
     "name": "stdout",
     "output_type": "stream",
     "text": [
      "Homogenous process: CV of 0.965, Fano factor of 0.133333333333\n",
      "Inhomogenous process: CV of 1.19, Fano factor of 0.690476190476\n"
     ]
    }
   ],
   "source": [
    "for times, title in zip([spike_times, spike_times_inh], ['Homogenous process', 'Inhomogenous process']):\n",
    "    isi = np.diff(times, axis=0)\n",
    "    isi_flattened = isi[~np.isnan(isi)]  # omit nan values\n",
    "    \n",
    "    cv = np.std(isi_flattened) / np.mean(isi_flattened)\n",
    "    \n",
    "    spike_counts = []\n",
    "    for interval in range(4):\n",
    "        start = interval * 1000\n",
    "        end = (interval+1) * 1000 - 1\n",
    "        spike_count = np.sum(np.logical_and(times >= start, times <= end))\n",
    "        spike_counts.append(spike_count)\n",
    "    fano_factor = np.var(spike_counts) / np.mean(spike_counts)\n",
    "    \n",
    "    print('{}: CV of {:.3}, Fano factor of {}'.format(title, cv, fano_factor))"
   ]
  },
  {
   "cell_type": "markdown",
   "metadata": {},
   "source": [
    "### 2. c) Spike-train autocorrelation function"
   ]
  },
  {
   "cell_type": "code",
   "execution_count": 120,
   "metadata": {
    "collapsed": true
   },
   "outputs": [],
   "source": [
    "def autocorr(x):\n",
    "    return np.correlate(x, x, mode='full')"
   ]
  },
  {
   "cell_type": "code",
   "execution_count": 121,
   "metadata": {},
   "outputs": [
    {
     "data": {
      "image/png": "[encoded data removed]",
      "text/plain": [
       "<matplotlib.figure.Figure at 0x110c46e50>"
      ]
     },
     "metadata": {},
     "output_type": "display_data"
    }
   ],
   "source": [
    "fig, axes = plt.subplots(1, 2, figsize=(15, 5))\n",
    "\n",
    "for ax, times, title in zip(axes, [spike_times, spike_times_inh], ['Homogenous process', 'Inhomogenous process']):\n",
    "    plt.sca(ax)\n",
    "    isi_hist = np.histogram(times.flatten(), 100)[0]\n",
    "    plt.plot(autocorr(isi_hist))\n",
    "    plt.xlabel('t / ms')\n",
    "    plt.ylabel('Autocorrelation')\n",
    "    plt.title(title)"
   ]
  },
  {
   "cell_type": "markdown",
   "metadata": {
    "collapsed": true
   },
   "source": [
    "### 2. d) Theoretical value"
   ]
  },
  {
   "cell_type": "markdown",
   "metadata": {},
   "source": [
    "The coefficient of variation and the Fano factor differ from the theoretical values of 1 because the neurons investigated here are not completely Poissonian. Especially the inhomogenous process is apparently not a Poisson process, as can be seen in the ISI histogram."
   ]
  },
  {
   "cell_type": "markdown",
   "metadata": {},
   "source": [
    "## 3. Poisson process with refractory period"
   ]
  },
  {
   "cell_type": "code",
   "execution_count": 21,
   "metadata": {},
   "outputs": [
    {
     "data": {
      "text/plain": [
       "((1000, 6), array([[  3.14252791e+02,   6.68505583e+01,   3.59252791e+01,\n",
       "           2.04626396e+01,   1.11850558e+01,   8.09252791e+00],\n",
       "        [  4.69920125e+02,   1.01984025e+02,   5.59920125e+01,\n",
       "           3.29960062e+01,   1.91984025e+01,   1.45992012e+01],\n",
       "        [  6.30921309e+02,   1.38184262e+02,   7.65921309e+01,\n",
       "           4.57960655e+01,   2.73184262e+01,   2.11592131e+01],\n",
       "        ..., \n",
       "        [  1.02331562e+05,   2.44583124e+04,   1.47241562e+04,\n",
       "           9.85707810e+03,   6.93683124e+03,   5.96341562e+03],\n",
       "        [  1.02340249e+05,   2.44640499e+04,   1.47295249e+04,\n",
       "           9.86226247e+03,   6.94190499e+03,   5.96845249e+03],\n",
       "        [  1.02543088e+05,   2.45086175e+04,   1.47543088e+04,\n",
       "           9.87715438e+03,   6.95086175e+03,   5.97543088e+03]]))"
      ]
     },
     "execution_count": 21,
     "metadata": {},
     "output_type": "execute_result"
    }
   ],
   "source": [
    "spike_times_ref.shape, spike_times_ref"
   ]
  },
  {
   "cell_type": "code",
   "execution_count": 29,
   "metadata": {},
   "outputs": [
    {
     "data": {
      "text/plain": [
       "array([    8.09252791,    14.59920125,    21.15921309,    27.11322869,\n",
       "          32.82475613,    37.82975487,    43.45371893,    49.26573289,\n",
       "          54.74939787,    60.37284591,    65.39022752,    70.75095613,\n",
       "          75.86353656,    83.55419149,    89.02769825,    94.08900779,\n",
       "         103.71492458,   109.10598568,   114.42079315,   119.73003925,\n",
       "         124.86951312,   130.19367337,   135.26706775,   141.64918578,\n",
       "         147.67914005,   155.30812108,   160.40492786,   165.76928171,\n",
       "         171.82945985,   177.55838497,   183.44133975,   188.75622411,\n",
       "         194.44604393,   202.32162291,   209.50532801,   214.6355242 ,\n",
       "         220.76155925,   229.56251533,   234.78426583,   240.20828921,\n",
       "         246.57737153,   254.44888856,   259.77495389,   267.20784338,\n",
       "         273.47630192,   279.06260684,   284.78182409,   291.41527894,\n",
       "         296.80968218,   302.49156425,   307.91970054,   312.9985387 ,\n",
       "         320.4365582 ,   327.36710634,   332.47416097,   338.23077951,\n",
       "         343.47162797,   349.98222163,   356.85115622,   362.27043579,\n",
       "         367.38260236,   372.97380523,   378.10789779,   385.89246255,\n",
       "         391.45274081,   397.33400823,   403.00432119,   409.54891957,\n",
       "         415.69248721,   421.18172635,   426.42651678,   433.22529962,\n",
       "         441.31132916,   447.37163195,   453.31709642,   458.36587065,\n",
       "         463.45355787,   469.21513624,   474.50083235,   484.76635633,\n",
       "         491.38136163,   496.7744166 ,   503.08147501,   508.60338355,\n",
       "         517.09395557,   522.56344041,   528.61187509,   533.99177607,\n",
       "         539.86596272,   546.71461512,   551.87710153,   558.27874814,\n",
       "         563.61775889,   569.2592692 ,   575.21405957,   580.855303  ,\n",
       "         586.16786224,   591.41572802,   598.03647783,   604.86382832,\n",
       "         610.54910499,   617.30552158,   622.74136386,   627.97415103,\n",
       "         633.15941479,   638.51854899,   643.7216743 ,   649.06327573,\n",
       "         654.36990085,   660.60967213,   667.01604724,   673.61402018,\n",
       "         678.66661626,   683.74321035,   689.35916907,   694.37212966,\n",
       "         699.63679952,   706.72683132,   712.41120566,   717.50364466,\n",
       "         722.62281936,   728.44681996,   734.94281649,   740.25101433,\n",
       "         748.6422985 ,   754.34014623,   759.55929066,   764.87271732,\n",
       "         772.43371241,   778.12430826,   783.13139193,   788.36090299,\n",
       "         793.98023125,   799.26728421,   805.12662165,   811.54759347,\n",
       "         816.57253425,   823.7190102 ,   829.16421187,   835.18911393,\n",
       "         840.69383456,   848.32219773,   855.03868908,   860.75581032,\n",
       "         865.92510647,   872.23959227,   878.6319096 ,   884.20560211,\n",
       "         890.72728553,   895.88658977,   902.43186462,   908.50351865,\n",
       "         915.74810556,   920.9747174 ,   926.55951784,   932.1280408 ,\n",
       "         937.17191403,   942.98651186,   949.12431164,   954.683142  ,\n",
       "         959.68400459,   965.47873326,   971.30219397,   976.31659523,\n",
       "         981.68165552,   988.31013601,   994.26381741,  1000.65687971,\n",
       "        1007.37877105,  1012.56257837,  1017.77310207,  1022.95487375,\n",
       "        1029.56506529,  1034.84083627,  1040.44556691,  1045.83483296,\n",
       "        1051.11225233,  1057.01413755,  1062.21255183,  1068.33064087,\n",
       "        1073.42699066,  1078.61747313,  1084.05909191,  1090.06258042,\n",
       "        1095.18212752,  1101.2057139 ,  1106.21254822,  1112.6697804 ,\n",
       "        1120.31529834,  1126.74168615,  1134.60066641,  1140.70013543,\n",
       "        1145.76689037,  1152.50335391,  1157.81961616,  1167.27905839,\n",
       "        1172.70660794,  1178.63778949,  1184.98786255,  1190.62733032,\n",
       "        1200.10514151,  1207.89453475,  1214.30257852,  1220.51157273,\n",
       "        1225.81616004,  1231.16106712,  1236.2221411 ,  1243.40604886,\n",
       "        1248.68101099,  1254.20916526,  1261.59096612,  1267.55328268,\n",
       "        1272.75990766,  1278.57967371,  1285.85727205,  1294.10019931,\n",
       "        1300.33915264,  1306.31819937,  1311.58656627,  1318.29606748,\n",
       "        1323.73815681,  1329.09661046,  1334.37627298,  1341.56895357,\n",
       "        1348.10928444,  1353.18141406,  1362.53038965,  1370.02299939,\n",
       "        1375.50851759,  1380.95457069,  1386.17463107,  1392.85907604,\n",
       "        1400.25090996,  1405.86539983,  1411.01805619,  1416.99230275,\n",
       "        1422.0690005 ,  1427.33873304,  1432.92958235,  1438.00558259,\n",
       "        1443.98033059,  1449.73914999,  1455.82147722,  1462.24684064,\n",
       "        1467.44068397,  1472.77899478,  1478.43665332,  1483.57058724,\n",
       "        1489.97755268,  1495.64221484,  1500.97465938,  1505.99177718,\n",
       "        1511.18267646,  1516.33869828,  1524.21795615,  1529.76364355,\n",
       "        1534.8349136 ,  1541.09979902,  1547.86091311,  1553.08986354,\n",
       "        1558.94225838,  1564.35721665,  1569.45160632,  1574.97958203,\n",
       "        1583.38848114,  1589.90338028,  1596.67972275,  1602.35104241,\n",
       "        1608.95990355,  1614.04807689,  1621.29596799,  1626.54663234,\n",
       "        1632.87738333,  1638.61407269,  1644.31768595,  1650.11573674,\n",
       "        1655.45987673,  1660.60413538,  1666.3347564 ,  1671.51080844,\n",
       "        1676.70935452,  1682.30505482,  1688.55269963,  1694.68876819,\n",
       "        1700.00410201,  1706.31694978,  1711.87295534,  1718.21069844,\n",
       "        1723.54345534,  1729.42956402,  1736.04762084,  1741.39603358,\n",
       "        1747.05612453,  1753.06786214,  1758.20022004,  1763.25095887,\n",
       "        1769.77175831,  1775.97003703,  1781.06431624,  1790.24100767,\n",
       "        1795.37868363,  1802.04881773,  1807.83388237,  1815.67017618,\n",
       "        1821.11955199,  1826.52888308,  1832.16971726,  1838.46262929,\n",
       "        1844.17381375,  1849.87972659,  1856.2428448 ,  1861.60810423,\n",
       "        1868.68696848,  1873.70134772,  1878.78931037,  1884.38749834,\n",
       "        1892.78973501,  1900.08571493,  1905.14047725,  1911.12562163,\n",
       "        1917.20896634,  1925.81847908,  1931.01207037,  1936.84841962,\n",
       "        1942.19343699,  1947.55536418,  1953.6324914 ,  1959.30727635,\n",
       "        1964.54512276,  1969.85715658,  1975.01495486,  1980.51472875,\n",
       "        1985.92806289,  1991.00849504,  1996.06755702,  2001.61191946,\n",
       "        2007.92045531,  2013.37840856,  2019.07109275,  2027.40012974,\n",
       "        2033.80777326,  2038.93782441,  2044.42349987,  2049.55728676,\n",
       "        2057.73169079,  2063.81899705,  2070.66840973,  2077.01580854,\n",
       "        2082.36667421,  2087.66631813,  2094.39844048,  2101.54946102,\n",
       "        2106.75038392,  2111.98398092,  2117.04391491,  2122.74151404,\n",
       "        2127.80593556,  2133.32497325,  2139.64475114,  2148.00835295,\n",
       "        2154.11399396,  2160.52175944,  2165.61666472,  2171.62006206,\n",
       "        2176.80810975,  2182.15327475,  2190.47959666,  2196.06546558,\n",
       "        2202.49635817,  2208.69637527,  2214.25075503,  2220.26125378,\n",
       "        2225.85013151,  2231.03987439,  2236.48964469,  2241.81796645,\n",
       "        2247.12188043,  2252.20954019,  2257.4007039 ,  2263.16105261,\n",
       "        2268.25239944,  2273.42009231,  2278.53510866,  2284.4086067 ,\n",
       "        2290.91438868,  2296.40328152,  2301.79214543,  2306.97364714,\n",
       "        2312.85623959,  2318.04104945,  2323.22884763,  2328.79876435,\n",
       "        2336.40611755,  2342.16272107,  2348.95260772,  2354.60837002,\n",
       "        2359.98989753,  2365.47159577,  2370.83077123,  2376.02686744,\n",
       "        2381.79783028,  2389.07904678,  2395.81954448,  2403.58474181,\n",
       "        2409.68117757,  2414.97844378,  2420.04587692,  2425.29060647,\n",
       "        2432.74647945,  2438.09413451,  2445.78133827,  2453.21944211,\n",
       "        2458.64015109,  2467.26602118,  2472.43511831,  2478.08130119,\n",
       "        2484.65916701,  2490.82608292,  2496.0804194 ,  2502.04748543,\n",
       "        2507.15829489,  2513.11506837,  2519.15726545,  2524.60639637,\n",
       "        2530.16122317,  2535.73912056,  2543.38232708,  2549.57341812,\n",
       "        2555.61514435,  2560.69633543,  2566.10442666,  2571.25133737,\n",
       "        2576.44083938,  2585.69758873,  2593.43554583,  2599.23092308,\n",
       "        2604.55354899,  2610.42134673,  2615.60640565,  2621.39026372,\n",
       "        2626.70485212,  2632.30004491,  2638.82407102,  2645.05530455,\n",
       "        2652.50971172,  2657.75674956,  2663.62824194,  2668.68583779,\n",
       "        2674.23674945,  2681.92395518,  2690.33941616,  2696.51337611,\n",
       "        2702.2257256 ,  2708.21860106,  2714.98801431,  2722.82085024,\n",
       "        2727.92415226,  2733.09650482,  2738.17140946,  2743.60609204,\n",
       "        2750.27188713,  2755.77115268,  2764.76175185,  2770.08494591,\n",
       "        2777.49500531,  2783.43289019,  2788.97376633,  2794.85659831,\n",
       "        2801.18305902,  2807.47402884,  2813.26391987,  2818.67006199,\n",
       "        2824.74155865,  2829.75879946,  2834.83957345,  2840.96287977,\n",
       "        2846.24841238,  2851.9280423 ,  2857.98854056,  2864.09469011,\n",
       "        2869.52400255,  2874.68288358,  2880.15985484,  2886.16174874,\n",
       "        2893.84692052,  2899.61259473,  2905.30946666,  2910.38547605,\n",
       "        2915.59821221,  2922.57327342,  2928.49937406,  2934.26632033,\n",
       "        2939.67482049,  2944.84537706,  2950.50242751,  2961.50020806,\n",
       "        2966.94402965,  2973.75166311,  2979.44337897,  2984.47528836,\n",
       "        2990.29096193,  2995.37918838,  3000.52288523,  3006.00544557,\n",
       "        3012.03489346,  3018.90872905,  3024.31683963,  3030.63067583,\n",
       "        3035.86846593,  3042.34002695,  3048.04266074,  3053.1855254 ,\n",
       "        3060.80467338,  3065.90575732,  3071.48940345,  3076.89494738,\n",
       "        3082.84479326,  3089.18290962,  3095.19413401,  3101.97694691,\n",
       "        3111.80140819,  3116.85445041,  3122.57795704,  3127.9639685 ,\n",
       "        3133.50683615,  3139.01882812,  3144.07385706,  3149.96008035,\n",
       "        3156.10311602,  3162.08323348,  3168.55163644,  3174.1369124 ,\n",
       "        3179.26480389,  3184.99333653,  3190.06817211,  3195.82236075,\n",
       "        3201.19962112,  3209.68628073,  3216.7267512 ,  3223.63137348,\n",
       "        3230.54229014,  3236.49178371,  3241.9115007 ,  3249.12717691,\n",
       "        3254.633569  ,  3259.66004158,  3266.25939105,  3271.44096566,\n",
       "        3277.7859004 ,  3283.40114491,  3290.25971709,  3295.34424996,\n",
       "        3300.78403422,  3305.87478307,  3311.01916406,  3316.26498762,\n",
       "        3323.17202882,  3330.47204779,  3335.74558825,  3340.7909745 ,\n",
       "        3346.4346607 ,  3351.89586519,  3357.02721315,  3363.039191  ,\n",
       "        3368.18265088,  3373.55574155,  3379.13482494,  3384.84148236,\n",
       "        3390.35939532,  3396.9881593 ,  3402.11072185,  3407.3594202 ,\n",
       "        3412.5778091 ,  3417.82361417,  3423.19661902,  3428.94390527,\n",
       "        3435.98907183,  3441.9141237 ,  3447.48201593,  3454.0320086 ,\n",
       "        3459.79739795,  3465.3831773 ,  3470.66347132,  3475.94999837,\n",
       "        3482.96723666,  3490.17091879,  3495.18052625,  3502.07607817,\n",
       "        3507.84997514,  3513.66254609,  3520.56317103,  3526.34855419,\n",
       "        3531.93038623,  3537.37152407,  3543.53193736,  3549.20043504,\n",
       "        3554.55706498,  3561.20907838,  3568.49960213,  3574.08435428,\n",
       "        3579.60008998,  3585.01122185,  3591.49656856,  3597.0233056 ,\n",
       "        3602.43457929,  3607.74469202,  3614.4967433 ,  3620.02563497,\n",
       "        3626.69056183,  3634.20405169,  3641.16506427,  3647.66512328,\n",
       "        3653.53031134,  3658.6601432 ,  3664.50217716,  3669.63665796,\n",
       "        3674.66195029,  3680.75183335,  3686.12738999,  3691.41765015,\n",
       "        3696.92937134,  3701.99953761,  3708.6035907 ,  3714.25561894,\n",
       "        3720.49726812,  3725.54847381,  3732.15488054,  3737.33774045,\n",
       "        3742.37801008,  3747.91713794,  3753.15184762,  3758.31338083,\n",
       "        3764.27400905,  3769.63294119,  3774.74974909,  3780.27417153,\n",
       "        3785.36818979,  3790.50802562,  3796.9229268 ,  3802.48856522,\n",
       "        3807.80481966,  3813.82990544,  3819.54366274,  3824.86970106,\n",
       "        3830.75471387,  3838.42392948,  3844.38050971,  3851.02518363,\n",
       "        3856.34589022,  3863.21366401,  3870.47404921,  3877.67764592,\n",
       "        3883.01806748,  3888.99850683,  3894.5632339 ,  3901.1929706 ,\n",
       "        3906.70255818,  3912.79187609,  3918.13480577,  3924.73254697,\n",
       "        3929.76241348,  3934.82744386,  3940.05260631,  3945.48836859,\n",
       "        3952.62999054,  3957.79387443,  3965.00444077,  3971.26865386,\n",
       "        3977.70850061,  3983.17326449,  3988.87323236,  3995.48581259,\n",
       "        4000.59894251,  4005.9915314 ,  4011.07437359,  4017.2564333 ,\n",
       "        4022.81482041,  4028.32146058,  4034.477865  ,  4040.70243836,\n",
       "        4046.02848763,  4052.66902153,  4058.18910707,  4063.62681005,\n",
       "        4068.66818749,  4073.89149314,  4079.24576574,  4086.59399826,\n",
       "        4091.76302206,  4098.41189865,  4104.22966218,  4109.43076592,\n",
       "        4117.11541762,  4122.37484939,  4127.61861057,  4134.10333847,\n",
       "        4140.41030219,  4145.61193632,  4154.30350581,  4160.13527172,\n",
       "        4165.26736612,  4171.19990855,  4176.88213042,  4182.83875341,\n",
       "        4188.21487634,  4194.69906827,  4200.20308606,  4207.09039099,\n",
       "        4213.0655621 ,  4218.80547133,  4224.01964405,  4229.52978725,\n",
       "        4236.16866913,  4244.04445302,  4250.39555023,  4255.80711129,\n",
       "        4261.0747725 ,  4266.74612964,  4273.03689105,  4279.97021169,\n",
       "        4286.42466812,  4291.63420438,  4299.84763678,  4306.75929446,\n",
       "        4312.00634573,  4317.19636315,  4322.40059105,  4327.68950257,\n",
       "        4333.31288099,  4339.60363479,  4347.50324102,  4352.90722444,\n",
       "        4359.30010282,  4364.43403688,  4369.49604998,  4375.2327863 ,\n",
       "        4380.29730043,  4385.33586905,  4391.72120281,  4397.15496525,\n",
       "        4403.63761612,  4409.91565466,  4414.96059088,  4421.3161543 ,\n",
       "        4427.50140828,  4435.2997066 ,  4440.31216637,  4448.19488233,\n",
       "        4453.75224251,  4459.27635802,  4464.6626069 ,  4471.77026322,\n",
       "        4477.0121018 ,  4482.21214324,  4487.63111803,  4493.30087375,\n",
       "        4499.4427299 ,  4505.8801578 ,  4511.76068323,  4517.03612805,\n",
       "        4522.38440614,  4527.78532702,  4535.83406866,  4541.23452875,\n",
       "        4547.95550277,  4553.14193536,  4558.71823826,  4564.65205619,\n",
       "        4569.99510463,  4579.95499462,  4586.42211508,  4593.66436851,\n",
       "        4599.4315788 ,  4605.87210099,  4615.06442458,  4620.21705682,\n",
       "        4625.69987841,  4631.57585657,  4638.72865987,  4644.10276285,\n",
       "        4649.49106339,  4654.95543104,  4660.4829741 ,  4667.81836089,\n",
       "        4674.40719443,  4679.51960862,  4685.51345132,  4691.3057684 ,\n",
       "        4696.60915315,  4702.00912476,  4707.90796893,  4713.0870172 ,\n",
       "        4718.48641531,  4723.55590907,  4732.34066985,  4740.68080054,\n",
       "        4746.07019834,  4751.35682971,  4757.94927894,  4767.88557386,\n",
       "        4772.8972546 ,  4777.93336871,  4783.51882964,  4789.22920119,\n",
       "        4794.42357898,  4800.01231328,  4805.2912434 ,  4811.84266278,\n",
       "        4817.82609088,  4823.10479965,  4828.12802331,  4833.33424471,\n",
       "        4839.40713847,  4845.49995151,  4850.64070926,  4861.39405621,\n",
       "        4867.30644471,  4873.79060373,  4880.06110832,  4885.38845909,\n",
       "        4894.16669493,  4899.4699083 ,  4904.62633761,  4909.6443862 ,\n",
       "        4915.23507106,  4920.50315546,  4925.55634437,  4930.59230301,\n",
       "        4936.33527916,  4942.42903226,  4949.02009452,  4955.00549619,\n",
       "        4962.36953229,  4968.52396723,  4974.83450062,  4980.21640292,\n",
       "        4986.56369771,  4992.03208307,  4997.59260794,  5003.53536435,\n",
       "        5008.66477605,  5014.13271124,  5019.45637672,  5026.15853303,\n",
       "        5033.56178924,  5040.20202465,  5045.30492367,  5051.38772139,\n",
       "        5056.44187075,  5065.02755185,  5072.24481392,  5077.25037281,\n",
       "        5085.40017853,  5091.17410859,  5096.30778488,  5101.56784152,\n",
       "        5108.23409243,  5113.8907628 ,  5119.37060434,  5126.02634706,\n",
       "        5132.22616122,  5138.84899622,  5144.60128181,  5150.63154559,\n",
       "        5155.69515235,  5160.87076449,  5165.87611833,  5170.91227421,\n",
       "        5176.32582187,  5184.3654236 ,  5190.86007935,  5196.45390287,\n",
       "        5202.7476473 ,  5208.23923818,  5213.28377585,  5218.45377988,\n",
       "        5224.00248663,  5229.10937242,  5236.01449807,  5241.10322676,\n",
       "        5249.33737294,  5254.47873733,  5260.16587717,  5265.78939659,\n",
       "        5272.01959397,  5279.03477332,  5284.22262952,  5290.16509058,\n",
       "        5296.37164662,  5302.11691213,  5309.10474556,  5314.76742036,\n",
       "        5320.82010541,  5326.85899114,  5331.87007365,  5337.43780525,\n",
       "        5343.65894613,  5349.67733845,  5355.96915144,  5363.76885666,\n",
       "        5369.33936105,  5375.62989843,  5381.45224899,  5386.57808622,\n",
       "        5392.0569812 ,  5398.62204989,  5403.88006052,  5409.41600524,\n",
       "        5416.76442094,  5421.88928649,  5427.74314149,  5433.47248777,\n",
       "        5438.86895168,  5446.67776081,  5451.75744507,  5457.81400605,\n",
       "        5462.853067  ,  5468.94723909,  5475.16046678,  5480.28941453,\n",
       "        5485.45897419,  5490.9862681 ,  5496.86997512,  5502.08851549,\n",
       "        5509.39964468,  5516.95111093,  5522.74948924,  5528.99404279,\n",
       "        5537.80281394,  5544.4350778 ,  5550.97758483,  5557.43858828,\n",
       "        5563.49245459,  5568.5333418 ,  5574.43544962,  5580.64129171,\n",
       "        5586.13909912,  5592.45299106,  5599.38019475,  5606.4101912 ,\n",
       "        5613.25270042,  5618.66702898,  5624.82159498,  5630.90063926,\n",
       "        5638.36225671,  5644.79330358,  5650.8901967 ,  5661.40842828,\n",
       "        5666.65205794,  5671.80738534,  5678.0784571 ,  5685.27243669,\n",
       "        5690.40773785,  5699.27731366,  5704.5515941 ,  5709.60138946,\n",
       "        5715.11361917,  5723.0096252 ,  5728.37454833,  5734.59129265,\n",
       "        5741.82702166,  5747.14955413,  5752.16231113,  5757.58528575,\n",
       "        5762.65824431,  5771.74443639,  5777.29629776,  5783.22332199,\n",
       "        5788.27296962,  5793.56427757,  5798.68466843,  5803.75653555,\n",
       "        5809.16188277,  5814.2178202 ,  5819.95206622,  5825.4648416 ,\n",
       "        5833.22230123,  5838.71355668,  5844.65139743,  5849.86330542,\n",
       "        5855.09745812,  5860.6382536 ,  5865.96335965,  5871.0984637 ,\n",
       "        5876.51851256,  5883.65210229,  5891.79755904,  5898.35028172,\n",
       "        5905.13082966,  5914.33330067,  5921.54974289,  5927.2492181 ,\n",
       "        5932.54906977,  5939.10901689,  5947.05649261,  5952.1437798 ,\n",
       "        5957.91670954,  5963.41561903,  5968.45249386,  5975.43087681])"
      ]
     },
     "execution_count": 29,
     "metadata": {},
     "output_type": "execute_result"
    }
   ],
   "source": [
    "spike_times_ref[:, 5]"
   ]
  },
  {
   "cell_type": "code",
   "execution_count": 22,
   "metadata": {},
   "outputs": [
    {
     "data": {
      "text/plain": [
       "((1, 6), array([[  10,   50,  100,  200,  500, 1000]], dtype=uint16))"
      ]
     },
     "execution_count": 22,
     "metadata": {},
     "output_type": "execute_result"
    }
   ],
   "source": [
    "rates_ref.shape, rates_ref"
   ]
  },
  {
   "cell_type": "markdown",
   "metadata": {},
   "source": [
    "### 3. a) Spike count rate"
   ]
  },
  {
   "cell_type": "code",
   "execution_count": 38,
   "metadata": {},
   "outputs": [
    {
     "data": {
      "text/plain": [
       "array([ 0.009752  ,  0.04080198,  0.06777681,  0.10124373,  0.14386705,\n",
       "        0.16735195])"
      ]
     },
     "execution_count": 38,
     "metadata": {},
     "output_type": "execute_result"
    }
   ],
   "source": [
    "spike_count_rates = len(spike_times_ref) / spike_times_ref[-1]\n",
    "spike_count_rates"
   ]
  },
  {
   "cell_type": "code",
   "execution_count": 50,
   "metadata": {},
   "outputs": [
    {
     "data": {
      "text/plain": [
       "<matplotlib.text.Text at 0x10ea9b510>"
      ]
     },
     "execution_count": 50,
     "metadata": {},
     "output_type": "execute_result"
    },
    {
     "data": {
      "image/png": "[encoded data removed]",
      "text/plain": [
       "<matplotlib.figure.Figure at 0x10edf6550>"
      ]
     },
     "metadata": {},
     "output_type": "display_data"
    }
   ],
   "source": [
    "plt.plot(rates_ref, spike_count_rates, 'o')\n",
    "plt.ylabel('$r_\\mathrm{eff}  \\ / \\ \\mathrm{ms}^{-1}$')\n",
    "plt.xlabel('$r \\ / \\ \\mathrm{s}^{-1}$')"
   ]
  },
  {
   "cell_type": "markdown",
   "metadata": {},
   "source": [
    "For large driving rates $r$, the effective spike rate $r_\\mathrm{eff}$ saturates, because the neuron cannot fire quickly enough due to the refractory period. Its maximum spike rate is the inverse of duration of the refractory period."
   ]
  },
  {
   "cell_type": "markdown",
   "metadata": {},
   "source": [
    "### 3. b) ISI histograms"
   ]
  },
  {
   "cell_type": "code",
   "execution_count": 93,
   "metadata": {},
   "outputs": [
    {
     "data": {
      "image/png": "[encoded data removed]",
      "text/plain": [
       "<matplotlib.figure.Figure at 0x10fdffb10>"
      ]
     },
     "metadata": {},
     "output_type": "display_data"
    }
   ],
   "source": [
    "fig, axes = plt.subplots(2, 3, figsize=(15, 8))\n",
    "plt.subplots_adjust(hspace=0.4)\n",
    "\n",
    "for ax, times, rate in zip(axes.flatten(), spike_times_ref.T, rates_ref):\n",
    "    isi = np.diff(times, axis=0)\n",
    "    plt.sca(ax)\n",
    "    plt.hist(isi, range(0, 260, 10))\n",
    "    plt.xlim(0, 250)\n",
    "    plt.xlabel('Interspike interval / ms')\n",
    "    plt.ylabel('Occurences')\n",
    "    plt.title(r'$r = {} \\ \\mathrm{{Hz}}$'.format(rate))"
   ]
  },
  {
   "cell_type": "markdown",
   "metadata": {},
   "source": [
    "The ISIs in the first plot go up to 650 ms - they are not shown here to make the plots comparable."
   ]
  },
  {
   "cell_type": "code",
   "execution_count": null,
   "metadata": {
    "collapsed": true
   },
   "outputs": [],
   "source": []
  }
 ],
 "metadata": {
  "kernelspec": {
   "display_name": "Python 2",
   "language": "python",
   "name": "python2"
  },
  "language_info": {
   "codemirror_mode": {
    "name": "ipython",
    "version": 2
   },
   "file_extension": ".py",
   "mimetype": "text/x-python",
   "name": "python",
   "nbconvert_exporter": "python",
   "pygments_lexer": "ipython2",
   "version": "2.7.13"
  }
 },
 "nbformat": 4,
 "nbformat_minor": 2
}
